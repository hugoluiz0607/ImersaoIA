{
  "nbformat": 4,
  "nbformat_minor": 0,
  "metadata": {
    "colab": {
      "provenance": [],
      "authorship_tag": "ABX9TyO1e8C+FVypS9nQIMXLRcEM",
      "include_colab_link": true
    },
    "kernelspec": {
      "name": "python3",
      "display_name": "Python 3"
    },
    "language_info": {
      "name": "python"
    }
  },
  "cells": [
    {
      "cell_type": "markdown",
      "metadata": {
        "id": "view-in-github",
        "colab_type": "text"
      },
      "source": [
        "<a href=\"https://colab.research.google.com/github/hugoluiz0607/ImersaoIA/blob/main/PlacaDoCarro.ipynb\" target=\"_parent\"><img src=\"https://colab.research.google.com/assets/colab-badge.svg\" alt=\"Open In Colab\"/></a>"
      ]
    },
    {
      "cell_type": "markdown",
      "source": [
        "**OBJETIVO DO PROJETO**\n",
        "\n",
        "Localizar veícluos e verificar se são roubados, clonados, ou estão com documentação atrasada.\n",
        "\n",
        "-----\n",
        "\n",
        "Changelog\n",
        "\n",
        "Versão Alpha 0.1 - Funcionalidades\n",
        "\n",
        "*   Analise de imagem para identificar veículo e placa.\n",
        "*   Consulta da placa encontrada em API externa e validação de características físicas.\n",
        "*   Validação se o mesmo veículo já foi localizado em outra oportunidade e se nesse intervalo de tempo foi possível que se deslocasse entre os dois locais.\n",
        "\n",
        "-----\n",
        "\n",
        "Implementações futuras - Funcionalidades\n",
        "*   Multiplas análises em paralalelo.\n",
        "*   Aplicativo mobile para rodar em background coletando fotos com autorização do usuário durante uma viagem. A coleta poderá ser recompensada, sendo ideal para motoristas de aplicativo que já utilizam o celuar e rodam durante todo dia.\n",
        "*   Integração com bases de dados governamentais para integração de dados sobre roubos / situção do veículo.\n",
        "*   Notificação automática de autoridades em caso de veículo roubado detectado.\n",
        "*   Notificação educativa automática ao cidadão que estiver circulando sem estar em dia com pagamento dos impostos.\n",
        "*   Notificação automática para proprietários de veículos que são possíveis vítimas de clone de veiculo.\n"
      ],
      "metadata": {
        "id": "1YKgcxmlgYOQ"
      }
    },
    {
      "cell_type": "code",
      "execution_count": 67,
      "metadata": {
        "id": "x_2tmW1VgVjU"
      },
      "outputs": [],
      "source": [
        "!pip install -q -U google-generativeai"
      ]
    },
    {
      "cell_type": "code",
      "source": [
        "# Import the Python SDK\n",
        "import google.generativeai as genai\n",
        "import hashlib\n",
        "import requests as req\n",
        "import json\n",
        "\n",
        "from pathlib import Path\n",
        "from PIL import Image\n",
        "from google.colab import userdata\n",
        "\n",
        "#removido por segurança\n",
        "#token = userdata.get('token_placas')\n",
        "url = \"https://wdapi2.com.br/consulta/\"\n",
        "GOOGLE_API_KEY = userdata.get('api_google')\n",
        "genai.configure(api_key=GOOGLE_API_KEY)\n",
        "\n",
        "\n",
        "# Set up the model\n",
        "generation_config = {\n",
        "  \"temperature\": 1,\n",
        "  \"top_p\": 0.95,\n",
        "  \"top_k\": 0,\n",
        "  \"max_output_tokens\": 8192,\n",
        "}\n",
        "\n",
        "safety_settings = [\n",
        "  {\n",
        "    \"category\": \"HARM_CATEGORY_HARASSMENT\",\n",
        "    \"threshold\": \"BLOCK_NONE\"\n",
        "  },\n",
        "  {\n",
        "    \"category\": \"HARM_CATEGORY_HATE_SPEECH\",\n",
        "    \"threshold\": \"BLOCK_NONE\"\n",
        "  },\n",
        "  {\n",
        "    \"category\": \"HARM_CATEGORY_SEXUALLY_EXPLICIT\",\n",
        "    \"threshold\": \"BLOCK_NONE\"\n",
        "  },\n",
        "  {\n",
        "    \"category\": \"HARM_CATEGORY_DANGEROUS_CONTENT\",\n",
        "    \"threshold\": \"BLOCK_NONE\"\n",
        "  },\n",
        "]\n",
        "\n",
        "system_instruction = \"aja como um especialista em veículos.\\n seja objetivo e direto.\\n só exiba informações sobre os carros que conseguir identificar a placa. não justifique as respostas.\"\n",
        "\n",
        "model = genai.GenerativeModel(model_name=\"gemini-1.5-pro-latest\",\n",
        "                              generation_config=generation_config,\n",
        "                              system_instruction=system_instruction,\n",
        "                              safety_settings=safety_settings)\n",
        "\n",
        "chat = model.start_chat(history=[])\n"
      ],
      "metadata": {
        "id": "0C8Kma0WirBu"
      },
      "execution_count": 69,
      "outputs": []
    },
    {
      "cell_type": "code",
      "source": [
        "# Simulando posição da foto atual - Será capturado do GPS do celular que enviou a foto\n",
        "posicaoGpsFoto = \"-19.916039, -43.918500\";\n",
        "dataDaFotoAtual = \"10/05/2024 09:25\"\n",
        "\n",
        "# Encontrando a cidade da posição GPS\n",
        "promptCidade = \"Aja como especialista em localização e responda com muita objetvidade: Qual é o nome da cidade e estado, com 2 digitos, da posição de gps \" + posicaoGpsFoto;\n",
        "cidadePosicaoGpsFotoAtual = chat.send_message(promptCidade).text\n",
        "\n",
        "print(cidadePosicaoGpsFotoAtual)\n",
        "\n",
        "# Simulando que o veículo já foi localizado em outra oportuniadde\n",
        "cidadePosicaoGpsFotoAntiga = \"Recife, PE\"\n",
        "dataDaFotoAntiga = \"05/05/2024 09:25\""
      ],
      "metadata": {
        "colab": {
          "base_uri": "https://localhost:8080/",
          "height": 52
        },
        "id": "3L6DIj_aWqoD",
        "outputId": "df469da3-8ff3-47d8-a153-e5927a2aa872"
      },
      "execution_count": 70,
      "outputs": [
        {
          "output_type": "stream",
          "name": "stdout",
          "text": [
            "Belo Horizonte, MG \n",
            "\n"
          ]
        }
      ]
    },
    {
      "cell_type": "code",
      "source": [
        "# Localizando e analisando apenas 1 veículo por vez em cada foto\n",
        "\n",
        "from PIL import Image\n",
        "from io import BytesIO\n",
        "\n",
        "# Imagem de teste\n",
        "urlFoto = \"https://www.ceara.gov.br/wp-content/uploads/2020/03/Placa-Mercosul-3.jpg\"\n",
        "response = req.get(urlFoto)\n",
        "img = Image.open(BytesIO(response.content))\n",
        "\n",
        "# Suba uma imagem com o nome \"imagem_analise.jpg\" que contenha um veículo com sua placa visivel.\n",
        "#img = Image.open('/content/imagem_analise.jpg')\n",
        "#img = Image.open()\n",
        "\n",
        "prompt1 = \"Retorne apenas a placa de 1 vículo, escolha o veículo que está mais proximo e com a placa mais legivel, sem espacos.\"\n",
        "\n",
        "placa = chat.send_message(content=[img,prompt1], stream=True)\n",
        "placa.resolve()\n",
        "print(placa.text)"
      ],
      "metadata": {
        "id": "qz86OlA6b2I_",
        "colab": {
          "base_uri": "https://localhost:8080/",
          "height": 52
        },
        "outputId": "7e9beee2-b480-4203-ff42-226eaf130fdb"
      },
      "execution_count": 72,
      "outputs": [
        {
          "output_type": "stream",
          "name": "stdout",
          "text": [
            "POX4G21\n",
            "\n"
          ]
        }
      ]
    },
    {
      "cell_type": "code",
      "source": [
        "# Acessando API terceira para obter dados do veículo da placa encontrada na imagem.\n",
        "\n",
        "# URL de produção ( poucos créditos disponíveis cedidos pela plataforma para desenvolvimento )\n",
        "# Token removido por segurança\n",
        "#urlConsulta = url + placa.text.replace('\\n', '') + \"/\" + token\n",
        "\n",
        "# URL fake para ativar o Mock\n",
        "urlConsulta = url + placa.text.replace('\\n', '') + \"/tokenFake\"\n",
        "print(urlConsulta)\n",
        "\n",
        "resposta = req.get(urlConsulta)\n",
        "data = \"\"\n",
        "print(resposta.text)"
      ],
      "metadata": {
        "colab": {
          "base_uri": "https://localhost:8080/"
        },
        "id": "074eq8mOcD91",
        "outputId": "0f569849-b200-4433-dc8a-c194e5accd57"
      },
      "execution_count": 73,
      "outputs": [
        {
          "output_type": "stream",
          "name": "stdout",
          "text": [
            "https://wdapi2.com.br/consulta/POX4G21/tokenFake\n",
            "{\"message\": \"Token Invalido \"}\n",
            "\n"
          ]
        }
      ]
    },
    {
      "cell_type": "code",
      "source": [
        "#Obtem resposta da chamada externa, caso retorne erro, utilize o Mock\n",
        "if resposta.status_code != 200 :\n",
        "  print(resposta.json()[\"message\"])\n",
        "  jsonResultado = {\"MARCA\":\"FIAT\",\"MODELO\":\"SIENA FIRE FLEX\",\"SUBMODELO\":\"SIENA\",\"VERSAO\":\"FLEX\",\"ano\":\"2009\",\"anoModelo\":\"2010\",\"chassi\":\"*********\",\"chassis\":\"*********\",\"city\":\"Contagem\",\"codigoRetorno\":\"0\",\"codigoSituacao\":\"0\",\"color\":\"PRATA\",\"cor\":\"PRATA\",\"data\":\"11/05/2024 10:06:51\",\"dataAtualizacaoAlarme\":\"11/05/2024\",\"dataAtualizacaoCaracteristicasVeiculo\":\"11/05/2024\",\"dataAtualizacaoRouboFurto\":\"11/05/2024\",\"datacache\":\"11/05/2024 10:06:51\",\"date\":\"2024-05-11T10:06:51.283-03:00\"}\n",
        "else:\n",
        "  jsonResultado = resposta.json()\n",
        "\n",
        "#Obter apenas dados úteis para verificação\n",
        "data = [jsonResultado[\"MARCA\"], jsonResultado[\"MODELO\"], jsonResultado[\"SUBMODELO\"] ,jsonResultado[\"VERSAO\"], jsonResultado[\"ano\"], jsonResultado[\"cor\"], jsonResultado[\"city\"]]\n",
        "print(data)"
      ],
      "metadata": {
        "colab": {
          "base_uri": "https://localhost:8080/"
        },
        "id": "M7Pi4Uh8nQBM",
        "outputId": "5537cf0e-23af-4bd2-8ea4-9eab8ceca15b"
      },
      "execution_count": 74,
      "outputs": [
        {
          "output_type": "stream",
          "name": "stdout",
          "text": [
            "Token Invalido \n",
            "['FIAT', 'SIENA FIRE FLEX', 'SIENA', 'FLEX', '2009', 'PRATA', 'Contagem']\n"
          ]
        }
      ]
    },
    {
      "cell_type": "code",
      "source": [
        "# Verificar se o veículo já foi fotografado outra vez e validar se foi possível realizar uma viagem do local anterior até o local atual.\n",
        "# Se a diferenca entre as fotos menor que o período de uma viagem entre as cidades, a probabilidade de ser um veiculo clonado é alta.\n",
        "\n",
        "promptTempoViagem = \"Responda da seguinte forma: 'Tempo de viagem: ', 'Diferença entre datas: ', 'Viagem possível: '  Seja extremamente objetivo, responda em minutos. Sabendo qual é o tempo de viagem médio de carro entre \" + cidadePosicaoGpsFotoAntiga + \" para a cidade \" + cidadePosicaoGpsFotoAtual + \"?\"\n",
        "promptDiferencaEntreDatas = \"Qual é iferenca em minutos entre as datas \" + dataDaFotoAntiga + \" e \" + dataDaFotoAtual + \"?\"\n",
        "resultadoViagemPossivel =  \"Responda Sim ou Não. É possivel viajar entre as cidades no tempo da diferença entre as datas?\"\n",
        "\n",
        "resultadoTempoViagem = chat.send_message([promptTempoViagem,promptDiferencaEntreDatas,resultadoViagemPossivel])\n",
        "print(resultadoTempoViagem.text)\n"
      ],
      "metadata": {
        "colab": {
          "base_uri": "https://localhost:8080/",
          "height": 86
        },
        "id": "cjqGnu6YdKjo",
        "outputId": "574d0056-f9f7-4089-f493-6bd244a4ffa5"
      },
      "execution_count": 75,
      "outputs": [
        {
          "output_type": "stream",
          "name": "stdout",
          "text": [
            "Tempo de viagem: 1440 \n",
            "Diferença entre datas: 7200\n",
            "Viagem possível: Sim \n",
            "\n"
          ]
        }
      ]
    },
    {
      "cell_type": "code",
      "source": [
        "# Resultado final, apresentando a comparação o veículo encontrado na foto, com a descrção retornada pela API extrna\n",
        "# e validando se o veículo teria condições de viajar entre as cidades. Utilizando esse critério como muito importante na validação\n",
        "\n",
        "if data != \"\" :\n",
        "  prompt2 = json.dumps(data)\n",
        "  prompt3 = \"Localize o carro com a placa \" + placa.text + \" e compare com os dados informados, analise se seria possivel que o carro estivesse na cidade \" + cidadePosicaoGpsFotoAtual + \" vindo de \" + cidadePosicaoGpsFotoAntiga + \", utilize esse dado como crucial na sua probabilidade. Responda da seguinte forma:\\n\\n\\nCarro da Imagem:\\nMarca: \\nModelo: \\nRange de ano: \\nCor: \\nCidade: \" + cidadePosicaoGpsFotoAtual +\"\\nPossibilidade de ter viajado de \" + cidadePosicaoGpsFotoAntiga +  \" a tempo de chegar em \" + cidadePosicaoGpsFotoAtual + \": \\nProbabilidade de ser o mesmo carro da descrição em %: \\n\\n\"\n",
        "\n",
        "  resultado = chat.send_message(content=[prompt2,prompt3])\n",
        "  print(resultado.text)"
      ],
      "metadata": {
        "colab": {
          "base_uri": "https://localhost:8080/",
          "height": 191
        },
        "id": "KKdyQpCScPhn",
        "outputId": "73f56921-4361-4df8-e45b-f0e48d098044"
      },
      "execution_count": 76,
      "outputs": [
        {
          "output_type": "stream",
          "name": "stdout",
          "text": [
            "Carro da Imagem:\n",
            "Marca: Volkswagen\n",
            "Modelo: Voyage\n",
            "Range de ano: 2016-2018\n",
            "Cor: Prata\n",
            "Cidade: Belo Horizonte, MG \n",
            "\n",
            "Possibilidade de ter viajado de Recife, PE a tempo de chegar em Belo Horizonte, MG: Sim\n",
            "Probabilidade de ser o mesmo carro da descrição em %: 0% \n",
            "\n"
          ]
        }
      ]
    }
  ]
}